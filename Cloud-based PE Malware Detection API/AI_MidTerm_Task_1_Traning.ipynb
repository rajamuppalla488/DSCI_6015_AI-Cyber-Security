{
 "cells": [
  {
   "cell_type": "markdown",
   "metadata": {
    "id": "qT8QuZ_5uO4K"
   },
   "source": [
    "### **Task_1: Training**"
   ]
  },
  {
   "cell_type": "markdown",
   "metadata": {
    "id": "t0NsXkhvucf_"
   },
   "source": [
    "###### **Extracting the Dataset**"
   ]
  },
  {
   "cell_type": "code",
   "execution_count": 9,
   "metadata": {
    "id": "aejLm34ct-DD"
   },
   "outputs": [],
   "source": [
    "import pandas as pd"
   ]
  },
  {
   "cell_type": "code",
   "execution_count": 10,
   "metadata": {
    "colab": {
     "base_uri": "https://localhost:8080/"
    },
    "id": "YXdjrAaXp55W",
    "outputId": "04fb80dc-2233-478e-c662-70c9a0ead11b"
   },
   "outputs": [
    {
     "name": "stdout",
     "output_type": "stream",
     "text": [
      "--2021-10-13 01:19:23--  https://ember.elastic.co/ember_dataset_2017_2.tar.bz2\n",
      "Resolving ember.elastic.co (ember.elastic.co)... 34.107.161.234, 2600:1901:0:1f6d::\n",
      "Connecting to ember.elastic.co (ember.elastic.co)|34.107.161.234|:443... connected.\n",
      "HTTP request sent, awaiting response... 200 OK\n",
      "Length: 1751237573 (1.6G) [application/x-bzip2]\n",
      "Saving to: ‘ember_dataset_2017_2.tar.bz2.2’\n",
      "\n",
      "ember_dataset_2017_ 100%[===================>]   1.63G  66.6MB/s    in 24s     \n",
      "\n",
      "2021-10-13 01:19:47 (70.8 MB/s) - ‘ember_dataset_2017_2.tar.bz2.2’ saved [1751237573/1751237573]\n",
      "\n"
     ]
    }
   ],
   "source": [
    "!wget https://ember.elastic.co/ember_dataset_2017_2.tar.bz2"
   ]
  },
  {
   "cell_type": "code",
   "execution_count": 11,
   "metadata": {
    "colab": {
     "base_uri": "https://localhost:8080/"
    },
    "id": "LkL-nnOKp58y",
    "outputId": "ebbc41b2-fcbb-45e2-eb00-c30923a4ddad"
   },
   "outputs": [
    {
     "name": "stdout",
     "output_type": "stream",
     "text": [
      "bzip2: Output file ember_dataset_2017_2.tar already exists.\n"
     ]
    }
   ],
   "source": [
    "!bzip2 -d ember_dataset_2017_2.tar.bz2  #Decompressing the file"
   ]
  },
  {
   "cell_type": "code",
   "execution_count": 12,
   "metadata": {
    "colab": {
     "base_uri": "https://localhost:8080/"
    },
    "id": "XmXDjvpUpPMb",
    "outputId": "8196d071-a365-45cf-e945-a25ab6bbdcb3"
   },
   "outputs": [
    {
     "name": "stdout",
     "output_type": "stream",
     "text": [
      "ember_2017_2/\n",
      "ember_2017_2/train_features_1.jsonl\n",
      "ember_2017_2/train_features_0.jsonl\n",
      "ember_2017_2/train_features_3.jsonl\n",
      "ember_2017_2/test_features.jsonl\n",
      "ember_2017_2/train_features_5.jsonl\n",
      "ember_2017_2/train_features_4.jsonl\n",
      "ember_2017_2/train_features_2.jsonl\n"
     ]
    }
   ],
   "source": [
    "!tar -xvf ember_dataset_2017_2.tar   #Extracting the tar"
   ]
  },
  {
   "cell_type": "markdown",
   "metadata": {
    "id": "JodPDuF06Z-2"
   },
   "source": [
    "##### **Cloning from the Git Repository**"
   ]
  },
  {
   "cell_type": "code",
   "execution_count": 13,
   "metadata": {
    "colab": {
     "base_uri": "https://localhost:8080/"
    },
    "id": "Nf7pjsULuwhp",
    "outputId": "6aabe771-b546-4b5f-aaf5-fe85dedc6d04"
   },
   "outputs": [
    {
     "name": "stdout",
     "output_type": "stream",
     "text": [
      "fatal: destination path 'ember' already exists and is not an empty directory.\n"
     ]
    }
   ],
   "source": [
    "!git clone https://github.com/endgameinc/ember"
   ]
  },
  {
   "cell_type": "code",
   "execution_count": 14,
   "metadata": {
    "colab": {
     "base_uri": "https://localhost:8080/"
    },
    "id": "VTKN09o2uyLu",
    "outputId": "508478fb-b7f3-4d3f-e9de-9845e66dfa8e"
   },
   "outputs": [
    {
     "name": "stdout",
     "output_type": "stream",
     "text": [
      "mv: cannot move 'ember' to 'ember-master/ember': Directory not empty\n"
     ]
    }
   ],
   "source": [
    "!mv ember ember-master"
   ]
  },
  {
   "cell_type": "code",
   "execution_count": 15,
   "metadata": {
    "id": "dzMEf8zBu33J"
   },
   "outputs": [],
   "source": [
    "!cp -r ember-master/* ."
   ]
  },
  {
   "cell_type": "code",
   "execution_count": 16,
   "metadata": {
    "colab": {
     "base_uri": "https://localhost:8080/"
    },
    "id": "sbcbQe1Au7Nb",
    "outputId": "98f152e9-002b-4bfd-f6e9-e08a3e1d5be5"
   },
   "outputs": [
    {
     "name": "stdout",
     "output_type": "stream",
     "text": [
      "Requirement already satisfied: lief>=0.9.0 in /usr/local/lib/python3.7/dist-packages (from -r requirements.txt (line 1)) (0.11.5)\n",
      "Requirement already satisfied: tqdm>=4.31.0 in /usr/local/lib/python3.7/dist-packages (from -r requirements.txt (line 2)) (4.62.3)\n",
      "Requirement already satisfied: numpy>=1.16.3 in /usr/local/lib/python3.7/dist-packages (from -r requirements.txt (line 3)) (1.19.5)\n",
      "Requirement already satisfied: pandas>=0.24.2 in /usr/local/lib/python3.7/dist-packages (from -r requirements.txt (line 4)) (1.1.5)\n",
      "Requirement already satisfied: lightgbm>=2.2.3 in /usr/local/lib/python3.7/dist-packages (from -r requirements.txt (line 5)) (2.2.3)\n",
      "Requirement already satisfied: scikit-learn>=0.20.3 in /usr/local/lib/python3.7/dist-packages (from -r requirements.txt (line 6)) (0.22.2.post1)\n",
      "Requirement already satisfied: pytz>=2017.2 in /usr/local/lib/python3.7/dist-packages (from pandas>=0.24.2->-r requirements.txt (line 4)) (2018.9)\n",
      "Requirement already satisfied: python-dateutil>=2.7.3 in /usr/local/lib/python3.7/dist-packages (from pandas>=0.24.2->-r requirements.txt (line 4)) (2.8.2)\n",
      "Requirement already satisfied: scipy in /usr/local/lib/python3.7/dist-packages (from lightgbm>=2.2.3->-r requirements.txt (line 5)) (1.4.1)\n",
      "Requirement already satisfied: joblib>=0.11 in /usr/local/lib/python3.7/dist-packages (from scikit-learn>=0.20.3->-r requirements.txt (line 6)) (1.0.1)\n",
      "Requirement already satisfied: six>=1.5 in /usr/local/lib/python3.7/dist-packages (from python-dateutil>=2.7.3->pandas>=0.24.2->-r requirements.txt (line 4)) (1.15.0)\n",
      "running install\n",
      "running bdist_egg\n",
      "running egg_info\n",
      "writing ember.egg-info/PKG-INFO\n",
      "writing dependency_links to ember.egg-info/dependency_links.txt\n",
      "writing requirements to ember.egg-info/requires.txt\n",
      "writing top-level names to ember.egg-info/top_level.txt\n",
      "reading manifest file 'ember.egg-info/SOURCES.txt'\n",
      "adding license file 'LICENSE.txt'\n",
      "writing manifest file 'ember.egg-info/SOURCES.txt'\n",
      "installing library code to build/bdist.linux-x86_64/egg\n",
      "running install_lib\n",
      "running build_py\n",
      "copying ember/features.py -> build/lib/ember\n",
      "copying ember/__init__.py -> build/lib/ember\n",
      "creating build/bdist.linux-x86_64/egg\n",
      "creating build/bdist.linux-x86_64/egg/ember\n",
      "copying build/lib/ember/features.py -> build/bdist.linux-x86_64/egg/ember\n",
      "copying build/lib/ember/__init__.py -> build/bdist.linux-x86_64/egg/ember\n",
      "byte-compiling build/bdist.linux-x86_64/egg/ember/features.py to features.cpython-37.pyc\n",
      "byte-compiling build/bdist.linux-x86_64/egg/ember/__init__.py to __init__.cpython-37.pyc\n",
      "creating build/bdist.linux-x86_64/egg/EGG-INFO\n",
      "copying ember.egg-info/PKG-INFO -> build/bdist.linux-x86_64/egg/EGG-INFO\n",
      "copying ember.egg-info/SOURCES.txt -> build/bdist.linux-x86_64/egg/EGG-INFO\n",
      "copying ember.egg-info/dependency_links.txt -> build/bdist.linux-x86_64/egg/EGG-INFO\n",
      "copying ember.egg-info/requires.txt -> build/bdist.linux-x86_64/egg/EGG-INFO\n",
      "copying ember.egg-info/top_level.txt -> build/bdist.linux-x86_64/egg/EGG-INFO\n",
      "zip_safe flag not set; analyzing archive contents...\n",
      "creating 'dist/ember-0.1.0-py3.7.egg' and adding 'build/bdist.linux-x86_64/egg' to it\n",
      "removing 'build/bdist.linux-x86_64/egg' (and everything under it)\n",
      "Processing ember-0.1.0-py3.7.egg\n",
      "Removing /usr/local/lib/python3.7/dist-packages/ember-0.1.0-py3.7.egg\n",
      "Copying ember-0.1.0-py3.7.egg to /usr/local/lib/python3.7/dist-packages\n",
      "ember 0.1.0 is already the active version in easy-install.pth\n",
      "\n",
      "Installed /usr/local/lib/python3.7/dist-packages/ember-0.1.0-py3.7.egg\n",
      "Processing dependencies for ember==0.1.0\n",
      "Searching for scikit-learn==0.22.2.post1\n",
      "Best match: scikit-learn 0.22.2.post1\n",
      "Adding scikit-learn 0.22.2.post1 to easy-install.pth file\n",
      "\n",
      "Using /usr/local/lib/python3.7/dist-packages\n",
      "Searching for lightgbm==2.2.3\n",
      "Best match: lightgbm 2.2.3\n",
      "Adding lightgbm 2.2.3 to easy-install.pth file\n",
      "\n",
      "Using /usr/local/lib/python3.7/dist-packages\n",
      "Searching for pandas==1.1.5\n",
      "Best match: pandas 1.1.5\n",
      "Adding pandas 1.1.5 to easy-install.pth file\n",
      "\n",
      "Using /usr/local/lib/python3.7/dist-packages\n",
      "Searching for numpy==1.19.5\n",
      "Best match: numpy 1.19.5\n",
      "Adding numpy 1.19.5 to easy-install.pth file\n",
      "Installing f2py script to /usr/local/bin\n",
      "Installing f2py3 script to /usr/local/bin\n",
      "Installing f2py3.7 script to /usr/local/bin\n",
      "\n",
      "Using /usr/local/lib/python3.7/dist-packages\n",
      "Searching for tqdm==4.62.3\n",
      "Best match: tqdm 4.62.3\n",
      "Adding tqdm 4.62.3 to easy-install.pth file\n",
      "Installing tqdm script to /usr/local/bin\n",
      "\n",
      "Using /usr/local/lib/python3.7/dist-packages\n",
      "Searching for lief==0.11.5\n",
      "Best match: lief 0.11.5\n",
      "Adding lief 0.11.5 to easy-install.pth file\n",
      "\n",
      "Using /usr/local/lib/python3.7/dist-packages\n",
      "Searching for joblib==1.0.1\n",
      "Best match: joblib 1.0.1\n",
      "Adding joblib 1.0.1 to easy-install.pth file\n",
      "\n",
      "Using /usr/local/lib/python3.7/dist-packages\n",
      "Searching for scipy==1.4.1\n",
      "Best match: scipy 1.4.1\n",
      "Adding scipy 1.4.1 to easy-install.pth file\n",
      "\n",
      "Using /usr/local/lib/python3.7/dist-packages\n",
      "Searching for python-dateutil==2.8.2\n",
      "Best match: python-dateutil 2.8.2\n",
      "Adding python-dateutil 2.8.2 to easy-install.pth file\n",
      "\n",
      "Using /usr/local/lib/python3.7/dist-packages\n",
      "Searching for pytz==2018.9\n",
      "Best match: pytz 2018.9\n",
      "Adding pytz 2018.9 to easy-install.pth file\n",
      "\n",
      "Using /usr/local/lib/python3.7/dist-packages\n",
      "Searching for six==1.15.0\n",
      "Best match: six 1.15.0\n",
      "Adding six 1.15.0 to easy-install.pth file\n",
      "\n",
      "Using /usr/local/lib/python3.7/dist-packages\n",
      "Finished processing dependencies for ember==0.1.0\n"
     ]
    }
   ],
   "source": [
    "!pip install -r requirements.txt\n",
    "!python setup.py install"
   ]
  },
  {
   "cell_type": "markdown",
   "metadata": {
    "id": "DnWaJFEeGtFj"
   },
   "source": [
    "##### Vectorizing the features"
   ]
  },
  {
   "cell_type": "code",
   "execution_count": 17,
   "metadata": {
    "colab": {
     "base_uri": "https://localhost:8080/",
     "height": 545
    },
    "id": "pCTEOInLu_tp",
    "outputId": "14327914-c7b0-427e-a96e-2fb6baa2e93a"
   },
   "outputs": [
    {
     "name": "stdout",
     "output_type": "stream",
     "text": [
      "WARNING: EMBER feature version 2 were computed using lief version 0.9.0-\n",
      "WARNING:   lief version 0.11.5-37bc2c9 found instead. There may be slight inconsistencies\n",
      "WARNING:   in the feature calculations.\n",
      "Vectorizing training set\n"
     ]
    },
    {
     "name": "stderr",
     "output_type": "stream",
     "text": [
      "100%|██████████| 900000/900000 [02:19<00:00, 6450.16it/s]\n"
     ]
    },
    {
     "name": "stdout",
     "output_type": "stream",
     "text": [
      "Vectorizing test set\n"
     ]
    },
    {
     "name": "stderr",
     "output_type": "stream",
     "text": [
      "100%|██████████| 200000/200000 [00:32<00:00, 6063.65it/s]\n"
     ]
    },
    {
     "data": {
      "text/html": [
       "<div>\n",
       "<style scoped>\n",
       "    .dataframe tbody tr th:only-of-type {\n",
       "        vertical-align: middle;\n",
       "    }\n",
       "\n",
       "    .dataframe tbody tr th {\n",
       "        vertical-align: top;\n",
       "    }\n",
       "\n",
       "    .dataframe thead th {\n",
       "        text-align: right;\n",
       "    }\n",
       "</style>\n",
       "<table border=\"1\" class=\"dataframe\">\n",
       "  <thead>\n",
       "    <tr style=\"text-align: right;\">\n",
       "      <th></th>\n",
       "      <th>sha256</th>\n",
       "      <th>appeared</th>\n",
       "      <th>label</th>\n",
       "      <th>subset</th>\n",
       "    </tr>\n",
       "  </thead>\n",
       "  <tbody>\n",
       "    <tr>\n",
       "      <th>0</th>\n",
       "      <td>0abb4fda7d5b13801d63bee53e5e256be43e141faa077a...</td>\n",
       "      <td>2006-12</td>\n",
       "      <td>0</td>\n",
       "      <td>train</td>\n",
       "    </tr>\n",
       "    <tr>\n",
       "      <th>1</th>\n",
       "      <td>d4206650743b3d519106dea10a38a55c30467c3d9f7875...</td>\n",
       "      <td>2006-12</td>\n",
       "      <td>0</td>\n",
       "      <td>train</td>\n",
       "    </tr>\n",
       "    <tr>\n",
       "      <th>2</th>\n",
       "      <td>c9cafff8a596ba8a80bafb4ba8ae6f2ef3329d95b85f15...</td>\n",
       "      <td>2007-01</td>\n",
       "      <td>0</td>\n",
       "      <td>train</td>\n",
       "    </tr>\n",
       "    <tr>\n",
       "      <th>3</th>\n",
       "      <td>7f513818bcc276c531af2e641c597744da807e21cc1160...</td>\n",
       "      <td>2007-02</td>\n",
       "      <td>0</td>\n",
       "      <td>train</td>\n",
       "    </tr>\n",
       "    <tr>\n",
       "      <th>4</th>\n",
       "      <td>ca65e1c387a4cc9e7d8a8ce12bf1bcf9f534c9032b9d95...</td>\n",
       "      <td>2007-02</td>\n",
       "      <td>0</td>\n",
       "      <td>train</td>\n",
       "    </tr>\n",
       "    <tr>\n",
       "      <th>...</th>\n",
       "      <td>...</td>\n",
       "      <td>...</td>\n",
       "      <td>...</td>\n",
       "      <td>...</td>\n",
       "    </tr>\n",
       "    <tr>\n",
       "      <th>1099995</th>\n",
       "      <td>fffe314f23cee3a68ccab272934877d3bc18ec3bd905df...</td>\n",
       "      <td>2017-12</td>\n",
       "      <td>0</td>\n",
       "      <td>test</td>\n",
       "    </tr>\n",
       "    <tr>\n",
       "      <th>1099996</th>\n",
       "      <td>fffe7a1b23e04facc9ca91a93ac4a34e8b3040e023dbde...</td>\n",
       "      <td>2017-12</td>\n",
       "      <td>1</td>\n",
       "      <td>test</td>\n",
       "    </tr>\n",
       "    <tr>\n",
       "      <th>1099997</th>\n",
       "      <td>fffe801f51e7ec931515aa49a3d157a9c0fbcdca8c9d80...</td>\n",
       "      <td>2017-12</td>\n",
       "      <td>0</td>\n",
       "      <td>test</td>\n",
       "    </tr>\n",
       "    <tr>\n",
       "      <th>1099998</th>\n",
       "      <td>fffe92f9593649c4a7050302368189de45e2c1c06b04ea...</td>\n",
       "      <td>2017-12</td>\n",
       "      <td>1</td>\n",
       "      <td>test</td>\n",
       "    </tr>\n",
       "    <tr>\n",
       "      <th>1099999</th>\n",
       "      <td>ffffb259a4c5e25ae1437af59caafb718cf8879187cc8c...</td>\n",
       "      <td>2017-12</td>\n",
       "      <td>1</td>\n",
       "      <td>test</td>\n",
       "    </tr>\n",
       "  </tbody>\n",
       "</table>\n",
       "<p>1100000 rows × 4 columns</p>\n",
       "</div>"
      ],
      "text/plain": [
       "                                                    sha256  ... subset\n",
       "0        0abb4fda7d5b13801d63bee53e5e256be43e141faa077a...  ...  train\n",
       "1        d4206650743b3d519106dea10a38a55c30467c3d9f7875...  ...  train\n",
       "2        c9cafff8a596ba8a80bafb4ba8ae6f2ef3329d95b85f15...  ...  train\n",
       "3        7f513818bcc276c531af2e641c597744da807e21cc1160...  ...  train\n",
       "4        ca65e1c387a4cc9e7d8a8ce12bf1bcf9f534c9032b9d95...  ...  train\n",
       "...                                                    ...  ...    ...\n",
       "1099995  fffe314f23cee3a68ccab272934877d3bc18ec3bd905df...  ...   test\n",
       "1099996  fffe7a1b23e04facc9ca91a93ac4a34e8b3040e023dbde...  ...   test\n",
       "1099997  fffe801f51e7ec931515aa49a3d157a9c0fbcdca8c9d80...  ...   test\n",
       "1099998  fffe92f9593649c4a7050302368189de45e2c1c06b04ea...  ...   test\n",
       "1099999  ffffb259a4c5e25ae1437af59caafb718cf8879187cc8c...  ...   test\n",
       "\n",
       "[1100000 rows x 4 columns]"
      ]
     },
     "execution_count": 17,
     "metadata": {},
     "output_type": "execute_result"
    }
   ],
   "source": [
    "import ember\n",
    "ember.create_vectorized_features(\"/content/ember_2017_2/\")\n",
    "ember.create_metadata(\"/content/ember_2017_2/\")"
   ]
  },
  {
   "cell_type": "code",
   "execution_count": 18,
   "metadata": {
    "colab": {
     "base_uri": "https://localhost:8080/",
     "height": 261
    },
    "id": "3Sn2rpENvHc7",
    "outputId": "8dea4f8c-8548-46b1-bf84-e855e4150cb9"
   },
   "outputs": [
    {
     "name": "stderr",
     "output_type": "stream",
     "text": [
      "/usr/local/lib/python3.7/dist-packages/numpy/lib/arraysetops.py:580: FutureWarning: elementwise comparison failed; returning scalar instead, but in the future will perform elementwise comparison\n",
      "  mask |= (ar1 == a)\n"
     ]
    },
    {
     "data": {
      "text/html": [
       "<div>\n",
       "<style scoped>\n",
       "    .dataframe tbody tr th:only-of-type {\n",
       "        vertical-align: middle;\n",
       "    }\n",
       "\n",
       "    .dataframe tbody tr th {\n",
       "        vertical-align: top;\n",
       "    }\n",
       "\n",
       "    .dataframe thead th {\n",
       "        text-align: right;\n",
       "    }\n",
       "</style>\n",
       "<table border=\"1\" class=\"dataframe\">\n",
       "  <thead>\n",
       "    <tr style=\"text-align: right;\">\n",
       "      <th></th>\n",
       "      <th>sha256</th>\n",
       "      <th>appeared</th>\n",
       "      <th>label</th>\n",
       "      <th>subset</th>\n",
       "    </tr>\n",
       "  </thead>\n",
       "  <tbody>\n",
       "    <tr>\n",
       "      <th>0</th>\n",
       "      <td>0abb4fda7d5b13801d63bee53e5e256be43e141faa077a...</td>\n",
       "      <td>2006-12</td>\n",
       "      <td>0</td>\n",
       "      <td>train</td>\n",
       "    </tr>\n",
       "    <tr>\n",
       "      <th>1</th>\n",
       "      <td>d4206650743b3d519106dea10a38a55c30467c3d9f7875...</td>\n",
       "      <td>2006-12</td>\n",
       "      <td>0</td>\n",
       "      <td>train</td>\n",
       "    </tr>\n",
       "    <tr>\n",
       "      <th>2</th>\n",
       "      <td>c9cafff8a596ba8a80bafb4ba8ae6f2ef3329d95b85f15...</td>\n",
       "      <td>2007-01</td>\n",
       "      <td>0</td>\n",
       "      <td>train</td>\n",
       "    </tr>\n",
       "    <tr>\n",
       "      <th>3</th>\n",
       "      <td>7f513818bcc276c531af2e641c597744da807e21cc1160...</td>\n",
       "      <td>2007-02</td>\n",
       "      <td>0</td>\n",
       "      <td>train</td>\n",
       "    </tr>\n",
       "    <tr>\n",
       "      <th>4</th>\n",
       "      <td>ca65e1c387a4cc9e7d8a8ce12bf1bcf9f534c9032b9d95...</td>\n",
       "      <td>2007-02</td>\n",
       "      <td>0</td>\n",
       "      <td>train</td>\n",
       "    </tr>\n",
       "  </tbody>\n",
       "</table>\n",
       "</div>"
      ],
      "text/plain": [
       "                                              sha256 appeared  label subset\n",
       "0  0abb4fda7d5b13801d63bee53e5e256be43e141faa077a...  2006-12      0  train\n",
       "1  d4206650743b3d519106dea10a38a55c30467c3d9f7875...  2006-12      0  train\n",
       "2  c9cafff8a596ba8a80bafb4ba8ae6f2ef3329d95b85f15...  2007-01      0  train\n",
       "3  7f513818bcc276c531af2e641c597744da807e21cc1160...  2007-02      0  train\n",
       "4  ca65e1c387a4cc9e7d8a8ce12bf1bcf9f534c9032b9d95...  2007-02      0  train"
      ]
     },
     "execution_count": 18,
     "metadata": {},
     "output_type": "execute_result"
    }
   ],
   "source": [
    "import ember\n",
    "data_path = '/content/ember_2017_2/'\n",
    "emberdf = ember.read_metadata(data_path)\n",
    "emberdf.head()"
   ]
  },
  {
   "cell_type": "code",
   "execution_count": 19,
   "metadata": {
    "colab": {
     "base_uri": "https://localhost:8080/"
    },
    "id": "XfmI42ByG5Ln",
    "outputId": "2322fa23-5aab-4507-ba1d-5ee3c69ff0c6"
   },
   "outputs": [
    {
     "name": "stdout",
     "output_type": "stream",
     "text": [
      "WARNING: EMBER feature version 2 were computed using lief version 0.9.0-\n",
      "WARNING:   lief version 0.11.5-37bc2c9 found instead. There may be slight inconsistencies\n",
      "WARNING:   in the feature calculations.\n"
     ]
    }
   ],
   "source": [
    "X_train0, y_train0, X_test0, y_test0 = ember.read_vectorized_features(data_path)"
   ]
  },
  {
   "cell_type": "code",
   "execution_count": 20,
   "metadata": {
    "colab": {
     "base_uri": "https://localhost:8080/"
    },
    "id": "OvoHOQnSH7st",
    "outputId": "d8aa2b7c-b71c-492a-b009-306401950491"
   },
   "outputs": [
    {
     "data": {
      "text/plain": [
       "memmap([[1.4676122e-02, 4.2218715e-03, 3.9226813e-03, ..., 0.0000000e+00,\n",
       "         0.0000000e+00, 0.0000000e+00],\n",
       "        [7.2290748e-02, 1.4057922e-02, 1.1037279e-02, ..., 0.0000000e+00,\n",
       "         0.0000000e+00, 0.0000000e+00],\n",
       "        [1.8452372e-01, 3.1307504e-02, 5.6928140e-03, ..., 4.4229600e+05,\n",
       "         0.0000000e+00, 0.0000000e+00],\n",
       "        ...,\n",
       "        [3.2558188e-01, 5.2042645e-03, 4.0974934e-03, ..., 0.0000000e+00,\n",
       "         0.0000000e+00, 0.0000000e+00],\n",
       "        [5.0731432e-01, 9.9041909e-03, 5.1698429e-03, ..., 0.0000000e+00,\n",
       "         0.0000000e+00, 0.0000000e+00],\n",
       "        [6.8576080e-01, 4.2310823e-03, 4.0683481e-03, ..., 0.0000000e+00,\n",
       "         0.0000000e+00, 0.0000000e+00]], dtype=float32)"
      ]
     },
     "execution_count": 20,
     "metadata": {},
     "output_type": "execute_result"
    }
   ],
   "source": [
    "X_train0"
   ]
  },
  {
   "cell_type": "markdown",
   "metadata": {
    "id": "MQCmAv-ZIH3X"
   },
   "source": [
    "##### **Dataset Shape**"
   ]
  },
  {
   "cell_type": "code",
   "execution_count": 21,
   "metadata": {
    "colab": {
     "base_uri": "https://localhost:8080/"
    },
    "id": "hi--NqliICNf",
    "outputId": "6a6a97cd-080d-4275-be84-560b0cc0aa50"
   },
   "outputs": [
    {
     "data": {
      "text/plain": [
       "((900000, 2381), (900000,), (200000, 2381), (200000,))"
      ]
     },
     "execution_count": 21,
     "metadata": {},
     "output_type": "execute_result"
    }
   ],
   "source": [
    "X_train0.shape, y_train0.shape, X_test0.shape, y_test0.shape"
   ]
  },
  {
   "cell_type": "markdown",
   "metadata": {
    "id": "HXAetNZzIWff"
   },
   "source": [
    "##### **Preprocessing the Data**"
   ]
  },
  {
   "cell_type": "markdown",
   "metadata": {
    "id": "GRF51ZYUI7Sj"
   },
   "source": [
    "###### **Creating the X_train and Y-Train DataFrames**"
   ]
  },
  {
   "cell_type": "markdown",
   "metadata": {
    "id": "-tbmdR-Ctocn"
   },
   "source": [
    "##### **Creating HDF5 files**"
   ]
  },
  {
   "cell_type": "code",
   "execution_count": 22,
   "metadata": {
    "id": "BiOpz0cntu9N"
   },
   "outputs": [],
   "source": [
    "import h5py"
   ]
  },
  {
   "cell_type": "code",
   "execution_count": 23,
   "metadata": {
    "id": "yPbOQ6MzySjJ"
   },
   "outputs": [],
   "source": [
    "h50 = h5py.File('X_train0.h5', 'w')               # X_train data loading\n",
    "h50.create_dataset('X_train0', data=X_train0)\n",
    "h50.close()"
   ]
  },
  {
   "cell_type": "code",
   "execution_count": 24,
   "metadata": {
    "id": "pkVaOj9YtyZC"
   },
   "outputs": [],
   "source": [
    "h51 = h5py.File('y_train0.h5', 'w')               # y_train data loading\n",
    "h51.create_dataset('y_train0', data=y_train0)\n",
    "h51.close()"
   ]
  },
  {
   "cell_type": "code",
   "execution_count": 25,
   "metadata": {
    "id": "jqZmPrioy4PD"
   },
   "outputs": [],
   "source": [
    "h52 = h5py.File('X_test0.h5', 'w')                # X_test data loading\n",
    "h52.create_dataset('X_test0', data=X_test0)\n",
    "h52.close()"
   ]
  },
  {
   "cell_type": "code",
   "execution_count": 26,
   "metadata": {
    "id": "zvztQjJMy4Sn"
   },
   "outputs": [],
   "source": [
    "h53 = h5py.File('y_test0.h5', 'w')                # y_test data loading\n",
    "h53.create_dataset('y_test0', data=y_test0)\n",
    "h53.close()"
   ]
  },
  {
   "cell_type": "code",
   "execution_count": 27,
   "metadata": {
    "id": "B0uWidKNv8pg"
   },
   "outputs": [],
   "source": [
    "!cp ./X_train0.h5 ./gdrive/My\\ Drive/Pickle_Files     # storing h5 files to GDrive\n",
    "!cp ./y_train0.h5 ./gdrive/My\\ Drive/Pickle_Files\n",
    "!cp ./X_test0.h5 ./gdrive/My\\ Drive/Pickle_Files\n",
    "!cp ./y_test0.h5 ./gdrive/My\\ Drive/Pickle_Files"
   ]
  },
  {
   "cell_type": "markdown",
   "metadata": {
    "id": "kvFsRQcHwu-K"
   },
   "source": [
    "##### **Reading all the data (X_train, Y_train, X_test and Y_test) from h5 files**"
   ]
  },
  {
   "cell_type": "code",
   "execution_count": 28,
   "metadata": {
    "colab": {
     "base_uri": "https://localhost:8080/"
    },
    "id": "GrLSZQ0bw5FD",
    "outputId": "70f545fc-0f53-45d8-de20-1fc2c5ac3a83"
   },
   "outputs": [
    {
     "data": {
      "text/plain": [
       "(900000, 2381)"
      ]
     },
     "execution_count": 28,
     "metadata": {},
     "output_type": "execute_result"
    }
   ],
   "source": [
    "import h5py\n",
    "Xh5 = h5py.File('/content/X_train0.h5','r')\n",
    "X_train = Xh5['X_train0']\n",
    "X_train.shape"
   ]
  },
  {
   "cell_type": "code",
   "execution_count": 29,
   "metadata": {
    "colab": {
     "base_uri": "https://localhost:8080/"
    },
    "id": "LCXyUpFLw7YB",
    "outputId": "9ba4e6fb-6fe9-490c-9edc-2421d17c1dba"
   },
   "outputs": [
    {
     "data": {
      "text/plain": [
       "(900000,)"
      ]
     },
     "execution_count": 29,
     "metadata": {},
     "output_type": "execute_result"
    }
   ],
   "source": [
    "import h5py\n",
    "yh5 = h5py.File('/content/y_train0.h5','r')\n",
    "y_train = yh5['y_train0']\n",
    "y_train.shape"
   ]
  },
  {
   "cell_type": "code",
   "execution_count": 30,
   "metadata": {
    "colab": {
     "base_uri": "https://localhost:8080/"
    },
    "id": "tP0POHZRxQkm",
    "outputId": "fec5127e-fe23-4045-e218-20c767077d91"
   },
   "outputs": [
    {
     "data": {
      "text/plain": [
       "(200000, 2381)"
      ]
     },
     "execution_count": 30,
     "metadata": {},
     "output_type": "execute_result"
    }
   ],
   "source": [
    "import h5py\n",
    "Xth5 = h5py.File('/content/X_test0.h5','r')\n",
    "X_test = Xth5['X_test0']\n",
    "X_test.shape"
   ]
  },
  {
   "cell_type": "code",
   "execution_count": 31,
   "metadata": {
    "colab": {
     "base_uri": "https://localhost:8080/"
    },
    "id": "7C_6gGUMxaIs",
    "outputId": "e77b9aac-735b-4ea6-b282-d488d60e88c8"
   },
   "outputs": [
    {
     "data": {
      "text/plain": [
       "(200000,)"
      ]
     },
     "execution_count": 31,
     "metadata": {},
     "output_type": "execute_result"
    }
   ],
   "source": [
    "import h5py\n",
    "yth5 = h5py.File('/content/y_test0.h5','r')\n",
    "y_test = yth5['y_test0']\n",
    "y_test.shape"
   ]
  },
  {
   "cell_type": "markdown",
   "metadata": {
    "id": "CPgfLxhOzwet"
   },
   "source": [
    "##### **Feature scaling using RobustScalar**"
   ]
  },
  {
   "cell_type": "code",
   "execution_count": 32,
   "metadata": {
    "id": "VbzD8-Nez4or"
   },
   "outputs": [],
   "source": [
    "from sklearn.preprocessing import RobustScaler\n",
    "\n",
    "rs = RobustScaler()\n",
    "Xtrain_rs = rs.fit_transform(X_train)\n",
    "Xtest_rs = rs.fit_transform(X_test)"
   ]
  },
  {
   "cell_type": "code",
   "execution_count": 33,
   "metadata": {
    "id": "N18lc7R9z91X"
   },
   "outputs": [],
   "source": [
    "h54 = h5py.File('Xtrain_rs.h5', 'w')                  # X_train data loading to HDF5 file\n",
    "h54.create_dataset('Xtrain_rs', data=Xtrain_rs)\n",
    "h54.close()\n",
    "\n",
    "#Storing the h5 files to GDrive\n",
    "!cp ./Xtrain_rs.h5 ./gdrive/My\\ Drive/Pickle_Files"
   ]
  },
  {
   "cell_type": "code",
   "execution_count": 34,
   "metadata": {
    "id": "4qoeV47m1YcG"
   },
   "outputs": [],
   "source": [
    "h55 = h5py.File('Xtest_rs.h5', 'w')                   # X_test scaled data loading to HDF5 file\n",
    "h55.create_dataset('Xtest_rs', data=Xtest_rs)\n",
    "h55.close()\n",
    "\n",
    "#Storing the h5 files to GDrive\n",
    "!cp ./Xtest_rs.h5 ./gdrive/My\\ Drive/Pickle_Files"
   ]
  },
  {
   "cell_type": "code",
   "execution_count": 35,
   "metadata": {
    "colab": {
     "base_uri": "https://localhost:8080/"
    },
    "id": "tM5TaYNI16iw",
    "outputId": "6944ce2c-308c-4402-843c-0cd1a43287b7"
   },
   "outputs": [
    {
     "data": {
      "text/plain": [
       "(900000, 2381)"
      ]
     },
     "execution_count": 35,
     "metadata": {},
     "output_type": "execute_result"
    }
   ],
   "source": [
    "import h5py                                           # Xtrain_rs data from h5 files\n",
    "Xrsh5 = h5py.File('/content/Xtrain_rs.h5','r')\n",
    "Xtrain_rs = Xrsh5['Xtrain_rs']\n",
    "Xtrain_rs.shape"
   ]
  },
  {
   "cell_type": "code",
   "execution_count": 36,
   "metadata": {
    "colab": {
     "base_uri": "https://localhost:8080/"
    },
    "id": "lIl0-BFV2PQq",
    "outputId": "bf9b01ca-9d1d-44ff-ba49-b24de7af5c8f"
   },
   "outputs": [
    {
     "data": {
      "text/plain": [
       "(200000, 2381)"
      ]
     },
     "execution_count": 36,
     "metadata": {},
     "output_type": "execute_result"
    }
   ],
   "source": [
    "import h5py                                           # Xtest_rs data from h5 files\n",
    "Xtrsh5 = h5py.File('/content/Xtest_rs.h5','r')\n",
    "Xtest_rs = Xtrsh5['Xtest_rs']\n",
    "Xtest_rs.shape"
   ]
  },
  {
   "cell_type": "code",
   "execution_count": 36,
   "metadata": {
    "id": "rrWK1GTI2bFn"
   },
   "outputs": [],
   "source": []
  },
  {
   "cell_type": "markdown",
   "metadata": {
    "id": "FOInCYl-2sCC"
   },
   "source": [
    "## **Training the Model and Architecture**"
   ]
  },
  {
   "cell_type": "code",
   "execution_count": 37,
   "metadata": {
    "id": "tNaSWw2f2rTs"
   },
   "outputs": [],
   "source": [
    "def myModel():\n",
    "\n",
    "    import tensorflow as tf\n",
    "    from tensorflow import keras\n",
    "    from tensorflow.keras import layers\n",
    "    from tensorflow.keras.models import Sequential\n",
    "    from keras import regularizers\n",
    "    tf.compat.v1.disable_eager_execution()\n",
    "    \n",
    "    # Architecture of Model\n",
    "    model = Sequential()\n",
    "    model.add(layers.InputLayer(input_shape=(2381,))) \n",
    "    model.add(layers.Dropout(0.2))\n",
    "    model.add(layers.Dense(units = 1000, activation = tf.nn.relu, activity_regularizer=regularizers.l2(0.01)))\n",
    "    model.add(layers.Dropout(0.5))\n",
    "    model.add(layers.Dense(units = 1, activation=tf.nn.sigmoid))\n",
    "    print(model.summary())\n",
    "    \n",
    "    # Compilation of Model\n",
    "    model.compile(optimizer='adam', loss='binary_crossentropy', metrics=['accuracy'])\n",
    "\n",
    "    model.save('my_model.h5')\n",
    "    \n",
    "    return model"
   ]
  },
  {
   "cell_type": "code",
   "execution_count": 38,
   "metadata": {
    "colab": {
     "base_uri": "https://localhost:8080/"
    },
    "id": "ztZ_2AR64b8Z",
    "outputId": "b4efd2cc-a256-42e0-f5a2-0a8a4c8d87dd"
   },
   "outputs": [
    {
     "name": "stdout",
     "output_type": "stream",
     "text": [
      "Model: \"sequential\"\n",
      "_________________________________________________________________\n",
      "Layer (type)                 Output Shape              Param #   \n",
      "=================================================================\n",
      "dropout (Dropout)            (None, 2381)              0         \n",
      "_________________________________________________________________\n",
      "dense (Dense)                (None, 1000)              2382000   \n",
      "_________________________________________________________________\n",
      "dropout_1 (Dropout)          (None, 1000)              0         \n",
      "_________________________________________________________________\n",
      "dense_1 (Dense)              (None, 1)                 1001      \n",
      "=================================================================\n",
      "Total params: 2,383,001\n",
      "Trainable params: 2,383,001\n",
      "Non-trainable params: 0\n",
      "_________________________________________________________________\n",
      "None\n"
     ]
    }
   ],
   "source": [
    "model = myModel()"
   ]
  },
  {
   "cell_type": "markdown",
   "metadata": {
    "id": "NTGd3oG04qEe"
   },
   "source": [
    "###### **1 epoch Training**"
   ]
  },
  {
   "cell_type": "code",
   "execution_count": 39,
   "metadata": {
    "colab": {
     "base_uri": "https://localhost:8080/"
    },
    "id": "PP0fE4YP4z-R",
    "outputId": "e8e8801d-dd3d-4583-8cf0-1721be9d849f"
   },
   "outputs": [
    {
     "name": "stdout",
     "output_type": "stream",
     "text": [
      "Train on 720000 samples, validate on 180000 samples\n",
      "719872/720000 [============================>.] - ETA: 0s - loss: 320451118624.2292 - accuracy: 0.3516"
     ]
    },
    {
     "name": "stderr",
     "output_type": "stream",
     "text": [
      "/usr/local/lib/python3.7/dist-packages/keras/engine/training.py:2470: UserWarning: `Model.state_updates` will be removed in a future version. This property should not be used in TensorFlow 2.0, as `updates` are applied automatically.\n",
      "  warnings.warn('`Model.state_updates` will be removed in a future version. '\n"
     ]
    },
    {
     "name": "stdout",
     "output_type": "stream",
     "text": [
      "\b\b\b\b\b\b\b\b\b\b\b\b\b\b\b\b\b\b\b\b\b\b\b\b\b\b\b\b\b\b\b\b\b\b\b\b\b\b\b\b\b\b\b\b\b\b\b\b\b\b\b\b\b\b\b\b\b\b\b\b\b\b\b\b\b\b\b\b\b\b\b\b\b\b\b\b\b\b\b\b\b\b\b\b\b\b\b\b\b\b\b\b\b\b\b\b\b\b\b\b\b\r",
      "720000/720000 [==============================] - 47s 65us/sample - loss: 320394250930.1207 - accuracy: 0.3516 - val_loss: 15578491746.2151 - val_accuracy: 0.2935\n"
     ]
    }
   ],
   "source": [
    "history = model.fit(Xtrain_rs, y_train,\n",
    "                batch_size=256, shuffle=\"batch\",\n",
    "                epochs=1, \n",
    "                validation_split=0.2)"
   ]
  },
  {
   "cell_type": "markdown",
   "metadata": {
    "id": "1MWIGjqp6ph7"
   },
   "source": [
    "##### **10 epoch Training**"
   ]
  },
  {
   "cell_type": "code",
   "execution_count": 40,
   "metadata": {
    "colab": {
     "base_uri": "https://localhost:8080/"
    },
    "id": "Fr95YPFl41yb",
    "outputId": "b0b67594-ed8c-49ef-c924-fc29f37d3b56"
   },
   "outputs": [
    {
     "name": "stdout",
     "output_type": "stream",
     "text": [
      "Train on 720000 samples, validate on 180000 samples\n",
      "Epoch 1/10\n",
      "720000/720000 [==============================] - 42s 58us/sample - loss: 43664036903.9635 - accuracy: 0.3500 - val_loss: 5531613867.4755 - val_accuracy: 0.2920\n",
      "Epoch 2/10\n",
      "720000/720000 [==============================] - 37s 51us/sample - loss: 9179856702.0822 - accuracy: 0.3484 - val_loss: 5735294002.8540 - val_accuracy: 0.2920\n",
      "Epoch 3/10\n",
      "720000/720000 [==============================] - 40s 55us/sample - loss: 990824881.8889 - accuracy: 0.3460 - val_loss: 7177739762.4787 - val_accuracy: 0.2920\n",
      "Epoch 4/10\n",
      "720000/720000 [==============================] - 39s 55us/sample - loss: 1777305386.8018 - accuracy: 0.3456 - val_loss: 3726614448.8870 - val_accuracy: 0.2919\n",
      "Epoch 5/10\n",
      "720000/720000 [==============================] - 41s 57us/sample - loss: 2371552663.3443 - accuracy: 0.3446 - val_loss: 3307094369.6316 - val_accuracy: 0.2919\n",
      "Epoch 6/10\n",
      "720000/720000 [==============================] - 40s 55us/sample - loss: 4038223648.6394 - accuracy: 0.3446 - val_loss: 13677602507.0467 - val_accuracy: 0.2919\n",
      "Epoch 7/10\n",
      "720000/720000 [==============================] - 40s 56us/sample - loss: 1265201824.1843 - accuracy: 0.3444 - val_loss: 33618024206.1480 - val_accuracy: 0.2919\n",
      "Epoch 8/10\n",
      "720000/720000 [==============================] - 40s 56us/sample - loss: 1781473052.5487 - accuracy: 0.3447 - val_loss: 19404980865.7914 - val_accuracy: 0.2920\n",
      "Epoch 9/10\n",
      "720000/720000 [==============================] - 39s 55us/sample - loss: 1633763857.5379 - accuracy: 0.3451 - val_loss: 962702060.0065 - val_accuracy: 0.2920\n",
      "Epoch 10/10\n",
      "720000/720000 [==============================] - 39s 54us/sample - loss: 2327977690.3887 - accuracy: 0.3444 - val_loss: 1912025525.7239 - val_accuracy: 0.2921\n"
     ]
    }
   ],
   "source": [
    "history = model.fit(Xtrain_rs, y_train,\n",
    "                batch_size=256, shuffle=\"batch\",\n",
    "                epochs=10, \n",
    "                validation_split=0.2)"
   ]
  },
  {
   "cell_type": "markdown",
   "metadata": {
    "id": "ttUkA97n8QNJ"
   },
   "source": [
    "##### **Testing the Model**"
   ]
  },
  {
   "cell_type": "code",
   "execution_count": 41,
   "metadata": {
    "colab": {
     "base_uri": "https://localhost:8080/"
    },
    "id": "kihnETrV8Ur2",
    "outputId": "61761a99-730f-43d0-f3eb-91d7c7b3a7eb"
   },
   "outputs": [
    {
     "name": "stdout",
     "output_type": "stream",
     "text": [
      "Training accuracy: 0.50004\n"
     ]
    }
   ],
   "source": [
    "score = model.evaluate(Xtest_rs,y_test)\n",
    "print(\"Training accuracy:\", score[1])"
   ]
  },
  {
   "cell_type": "markdown",
   "metadata": {
    "id": "GhiDIgC8-cWy"
   },
   "source": [
    "##### **Saving the Model**"
   ]
  },
  {
   "cell_type": "code",
   "execution_count": 42,
   "metadata": {
    "id": "Y1zvVTfR8fAP"
   },
   "outputs": [],
   "source": [
    "model.save_weights('my_model_weights.h5')"
   ]
  },
  {
   "cell_type": "markdown",
   "metadata": {
    "id": "yt2mTPpU-lFs"
   },
   "source": [
    "##### **Storing the Model to GDrive**"
   ]
  },
  {
   "cell_type": "code",
   "execution_count": 43,
   "metadata": {
    "id": "N1zxAgir9XB9"
   },
   "outputs": [],
   "source": [
    "!cp ./my_model.h5 ./gdrive/My\\ Drive/Pickle_Files             \n",
    "!cp ./my_model_weights.h5 ./gdrive/My\\ Drive/Pickle_Files"
   ]
  },
  {
   "cell_type": "markdown",
   "metadata": {
    "id": "Yo5YNnju-DIc"
   },
   "source": [
    "##### **Creating a function that taking a PE file as its argument.**"
   ]
  },
  {
   "cell_type": "code",
   "execution_count": 48,
   "metadata": {
    "colab": {
     "base_uri": "https://localhost:8080/"
    },
    "id": "JxEPgyyQ-aJK",
    "outputId": "b0bca428-e2aa-46eb-cffb-31a2311cfa74"
   },
   "outputs": [
    {
     "name": "stdout",
     "output_type": "stream",
     "text": [
      "--2021-10-13 03:17:40--  https://the.earth.li/~sgtatham/putty/latest/w32/putty.exe\n",
      "Resolving the.earth.li (the.earth.li)... 93.93.131.124, 2a00:1098:86:4d:c0ff:ee:15:900d\n",
      "Connecting to the.earth.li (the.earth.li)|93.93.131.124|:443... connected.\n",
      "HTTP request sent, awaiting response... 302 Found\n",
      "Location: https://the.earth.li/~sgtatham/putty/0.76/w32/putty.exe [following]\n",
      "--2021-10-13 03:17:41--  https://the.earth.li/~sgtatham/putty/0.76/w32/putty.exe\n",
      "Reusing existing connection to the.earth.li:443.\n",
      "HTTP request sent, awaiting response... 200 OK\n",
      "Length: 1180904 (1.1M) [application/x-msdos-program]\n",
      "Saving to: ‘putty.exe’\n",
      "\n",
      "putty.exe           100%[===================>]   1.13M  1.93MB/s    in 0.6s    \n",
      "\n",
      "2021-10-13 03:17:42 (1.93 MB/s) - ‘putty.exe’ saved [1180904/1180904]\n",
      "\n"
     ]
    }
   ],
   "source": [
    "!wget https://the.earth.li/~sgtatham/putty/latest/w32/putty.exe"
   ]
  },
  {
   "cell_type": "code",
   "execution_count": 49,
   "metadata": {
    "id": "_fOU87rD-3p2"
   },
   "outputs": [],
   "source": [
    "def testPE(pe):\n",
    "  import ember\n",
    "  import numpy as np\n",
    "  import tensorflow as tf\n",
    "  from sklearn.preprocessing import RobustScaler\n",
    "  rs = RobustScaler()\n",
    "  \n",
    "  testpe = open(pe, \"rb\").read()          #  opening the PE file.\n",
    "  extract = ember.PEFeatureExtractor()    #  Feature extraction class\n",
    "  data = extract.feature_vector(testpe)   #  vectorizing the extracted features\n",
    "  scaled_data = rs.fit_transform([data])\n",
    "  Xdata = np.reshape(scaled_data,(1, 2381))\n",
    "\n",
    "  model = tf.keras.models.load_model('my_model.h5')\n",
    "  pred = model.predict_classes(Xdata)\n",
    "\n",
    "  return pred"
   ]
  },
  {
   "cell_type": "code",
   "execution_count": null,
   "metadata": {
    "id": "pgNkxjCh_bwW"
   },
   "outputs": [],
   "source": [
    "testPE(\"putty.exe\")"
   ]
  },
  {
   "cell_type": "markdown",
   "metadata": {
    "id": "Ci8Xs6m-qBkP"
   },
   "source": [
    "###### Professor, While runnig the above command, my colab session is crashing for an unknown reason.\n",
    "###### Again, I ran all the cells with different .exe file but the error is same it is crashing the session.\n",
    "###### Even i tried with small size .exe file, the issue is same professor."
   ]
  },
  {
   "cell_type": "code",
   "execution_count": null,
   "metadata": {
    "id": "t4t5a67BrOAA"
   },
   "outputs": [],
   "source": []
  }
 ],
 "metadata": {
  "accelerator": "TPU",
  "colab": {
   "collapsed_sections": [],
   "machine_shape": "hm",
   "name": "AI_MidTerm_Task_1_Traning.ipynb",
   "provenance": []
  },
  "kernelspec": {
   "display_name": "Python 3 (ipykernel)",
   "language": "python",
   "name": "python3"
  },
  "language_info": {
   "codemirror_mode": {
    "name": "ipython",
    "version": 3
   },
   "file_extension": ".py",
   "mimetype": "text/x-python",
   "name": "python",
   "nbconvert_exporter": "python",
   "pygments_lexer": "ipython3",
   "version": "3.8.6"
  }
 },
 "nbformat": 4,
 "nbformat_minor": 1
}
