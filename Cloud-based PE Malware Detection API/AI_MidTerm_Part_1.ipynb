{
  "nbformat": 4,
  "nbformat_minor": 0,
  "metadata": {
    "colab": {
      "name": "AI_MidTerm_Part_1.ipynb",
      "provenance": [],
      "collapsed_sections": [],
      "machine_shape": "hm"
    },
    "kernelspec": {
      "name": "python3",
      "display_name": "Python 3"
    },
    "language_info": {
      "name": "python"
    },
    "accelerator": "TPU"
  },
  "cells": [
    {
      "cell_type": "markdown",
      "metadata": {
        "id": "fxcbXWMd9XXy"
      },
      "source": [
        "##### **Task_1_Training**"
      ]
    },
    {
      "cell_type": "code",
      "metadata": {
        "colab": {
          "base_uri": "https://localhost:8080/"
        },
        "id": "AWvcsEC2oEpq",
        "outputId": "1a55aa6c-c531-4739-a47a-16c4fc2628d9"
      },
      "source": [
        "from google.colab import drive\n",
        "drive.mount('/content/drive')"
      ],
      "execution_count": 2,
      "outputs": [
        {
          "output_type": "stream",
          "name": "stdout",
          "text": [
            "Drive already mounted at /content/drive; to attempt to forcibly remount, call drive.mount(\"/content/drive\", force_remount=True).\n"
          ]
        }
      ]
    },
    {
      "cell_type": "code",
      "metadata": {
        "colab": {
          "base_uri": "https://localhost:8080/"
        },
        "id": "DIXfWcTkoHoG",
        "outputId": "4c0f839d-c1e4-4c4f-caca-d8c780e07b4e"
      },
      "source": [
        "!wget https://dsci6015aisecf21.s3.us-east-2.amazonaws.com/X_train.dat\n",
        "!wget https://dsci6015aisecf21.s3.us-east-2.amazonaws.com/X_test.dat\n",
        "!wget https://dsci6015aisecf21.s3.us-east-2.amazonaws.com/y_train.dat\n",
        "!wget https://dsci6015aisecf21.s3.us-east-2.amazonaws.com/y_test.dat\n",
        "!wget https://dsci6015aisecf21.s3.us-east-2.amazonaws.com/metadata.csv"
      ],
      "execution_count": 3,
      "outputs": [
        {
          "output_type": "stream",
          "name": "stdout",
          "text": [
            "--2021-10-14 22:56:17--  https://dsci6015aisecf21.s3.us-east-2.amazonaws.com/X_train.dat\n",
            "Resolving dsci6015aisecf21.s3.us-east-2.amazonaws.com (dsci6015aisecf21.s3.us-east-2.amazonaws.com)... 52.219.88.184\n",
            "Connecting to dsci6015aisecf21.s3.us-east-2.amazonaws.com (dsci6015aisecf21.s3.us-east-2.amazonaws.com)|52.219.88.184|:443... connected.\n",
            "HTTP request sent, awaiting response... 200 OK\n",
            "Length: 8571600000 (8.0G) [application/x-www-form-urlencoded]\n",
            "Saving to: ‘X_train.dat’\n",
            "\n",
            "X_train.dat         100%[===================>]   7.98G  92.0MB/s    in 86s     \n",
            "\n",
            "2021-10-14 22:57:43 (95.1 MB/s) - ‘X_train.dat’ saved [8571600000/8571600000]\n",
            "\n",
            "--2021-10-14 22:57:44--  https://dsci6015aisecf21.s3.us-east-2.amazonaws.com/X_test.dat\n",
            "Resolving dsci6015aisecf21.s3.us-east-2.amazonaws.com (dsci6015aisecf21.s3.us-east-2.amazonaws.com)... 52.219.99.18\n",
            "Connecting to dsci6015aisecf21.s3.us-east-2.amazonaws.com (dsci6015aisecf21.s3.us-east-2.amazonaws.com)|52.219.99.18|:443... connected.\n",
            "HTTP request sent, awaiting response... 200 OK\n",
            "Length: 1904800000 (1.8G) [application/x-www-form-urlencoded]\n",
            "Saving to: ‘X_test.dat’\n",
            "\n",
            "X_test.dat          100%[===================>]   1.77G  95.8MB/s    in 19s     \n",
            "\n",
            "2021-10-14 22:58:03 (95.4 MB/s) - ‘X_test.dat’ saved [1904800000/1904800000]\n",
            "\n",
            "--2021-10-14 22:58:03--  https://dsci6015aisecf21.s3.us-east-2.amazonaws.com/y_train.dat\n",
            "Resolving dsci6015aisecf21.s3.us-east-2.amazonaws.com (dsci6015aisecf21.s3.us-east-2.amazonaws.com)... 52.219.104.160\n",
            "Connecting to dsci6015aisecf21.s3.us-east-2.amazonaws.com (dsci6015aisecf21.s3.us-east-2.amazonaws.com)|52.219.104.160|:443... connected.\n",
            "HTTP request sent, awaiting response... 200 OK\n",
            "Length: 3600000 (3.4M) [binary/octet-stream]\n",
            "Saving to: ‘y_train.dat’\n",
            "\n",
            "y_train.dat         100%[===================>]   3.43M  15.3MB/s    in 0.2s    \n",
            "\n",
            "2021-10-14 22:58:03 (15.3 MB/s) - ‘y_train.dat’ saved [3600000/3600000]\n",
            "\n",
            "--2021-10-14 22:58:03--  https://dsci6015aisecf21.s3.us-east-2.amazonaws.com/y_test.dat\n",
            "Resolving dsci6015aisecf21.s3.us-east-2.amazonaws.com (dsci6015aisecf21.s3.us-east-2.amazonaws.com)... 52.219.104.160\n",
            "Connecting to dsci6015aisecf21.s3.us-east-2.amazonaws.com (dsci6015aisecf21.s3.us-east-2.amazonaws.com)|52.219.104.160|:443... connected.\n",
            "HTTP request sent, awaiting response... 200 OK\n",
            "Length: 800000 (781K) [binary/octet-stream]\n",
            "Saving to: ‘y_test.dat’\n",
            "\n",
            "y_test.dat          100%[===================>] 781.25K  4.69MB/s    in 0.2s    \n",
            "\n",
            "2021-10-14 22:58:04 (4.69 MB/s) - ‘y_test.dat’ saved [800000/800000]\n",
            "\n",
            "--2021-10-14 22:58:04--  https://dsci6015aisecf21.s3.us-east-2.amazonaws.com/metadata.csv\n",
            "Resolving dsci6015aisecf21.s3.us-east-2.amazonaws.com (dsci6015aisecf21.s3.us-east-2.amazonaws.com)... 52.219.104.160\n",
            "Connecting to dsci6015aisecf21.s3.us-east-2.amazonaws.com (dsci6015aisecf21.s3.us-east-2.amazonaws.com)|52.219.104.160|:443... connected.\n",
            "HTTP request sent, awaiting response... 200 OK\n",
            "Length: 96888920 (92M) [text/csv]\n",
            "Saving to: ‘metadata.csv’\n",
            "\n",
            "metadata.csv        100%[===================>]  92.40M  78.7MB/s    in 1.2s    \n",
            "\n",
            "2021-10-14 22:58:05 (78.7 MB/s) - ‘metadata.csv’ saved [96888920/96888920]\n",
            "\n"
          ]
        }
      ]
    },
    {
      "cell_type": "code",
      "metadata": {
        "id": "cqfJHQgsqzb5"
      },
      "source": [
        "!cp /content/X_train.dat /content/drive/MyDrive/vMalConv/X_train.dat\n",
        "!cp /content/X_test.dat /content/drive/MyDrive/vMalConv/X_test.dat\n",
        "!cp /content/y_train.dat /content/drive/MyDrive/vMalConv/y_train.dat\n",
        "!cp /content/y_test.dat /content/drive/MyDrive/vMalConv/y_test.dat\n",
        "!cp /content/metadata.csv /content/drive/MyDrive/vMalConv/metadata.csv"
      ],
      "execution_count": 5,
      "outputs": []
    },
    {
      "cell_type": "code",
      "metadata": {
        "colab": {
          "base_uri": "https://localhost:8080/"
        },
        "id": "r-dUncA7rRgA",
        "outputId": "a791c9ad-d07a-4ca7-fff5-d576717011ae"
      },
      "source": [
        "!wget https://github.com/endgameinc/ember/archive/master.zip\n",
        "!unzip master.zip\n",
        "!rm master.zip\n",
        "!cp -r ember-master/* .\n",
        "!rm -r ember-master\n",
        "!pip install -r requirements.txt\n",
        "!python setup.py install"
      ],
      "execution_count": 6,
      "outputs": [
        {
          "output_type": "stream",
          "name": "stdout",
          "text": [
            "--2021-10-14 23:00:26--  https://github.com/endgameinc/ember/archive/master.zip\n",
            "Resolving github.com (github.com)... 140.82.113.4\n",
            "Connecting to github.com (github.com)|140.82.113.4|:443... connected.\n",
            "HTTP request sent, awaiting response... 301 Moved Permanently\n",
            "Location: https://github.com/elastic/ember/archive/master.zip [following]\n",
            "--2021-10-14 23:00:26--  https://github.com/elastic/ember/archive/master.zip\n",
            "Reusing existing connection to github.com:443.\n",
            "HTTP request sent, awaiting response... 302 Found\n",
            "Location: https://codeload.github.com/elastic/ember/zip/master [following]\n",
            "--2021-10-14 23:00:26--  https://codeload.github.com/elastic/ember/zip/master\n",
            "Resolving codeload.github.com (codeload.github.com)... 140.82.112.10\n",
            "Connecting to codeload.github.com (codeload.github.com)|140.82.112.10|:443... connected.\n",
            "HTTP request sent, awaiting response... 200 OK\n",
            "Length: unspecified [application/zip]\n",
            "Saving to: ‘master.zip’\n",
            "\n",
            "master.zip              [     <=>            ]  11.22M  8.81MB/s    in 1.3s    \n",
            "\n",
            "2021-10-14 23:00:28 (8.81 MB/s) - ‘master.zip’ saved [11769696]\n",
            "\n",
            "Archive:  master.zip\n",
            "4dee42918694d72d319e731940755146a71f5c6c\n",
            "   creating: ember-master/\n",
            "  inflating: ember-master/LICENSE.txt  \n",
            "  inflating: ember-master/README.md  \n",
            "   creating: ember-master/ember/\n",
            "  inflating: ember-master/ember/__init__.py  \n",
            "  inflating: ember-master/ember/features.py  \n",
            "   creating: ember-master/licenses/\n",
            "  inflating: ember-master/licenses/AGPL-LICENSE-3.0.txt  \n",
            "  inflating: ember-master/licenses/MIT-LICENSE.txt  \n",
            "   creating: ember-master/malconv/\n",
            "  inflating: ember-master/malconv/README.md  \n",
            "  inflating: ember-master/malconv/malconv.h5  \n",
            "  inflating: ember-master/malconv/malconv.py  \n",
            "  inflating: ember-master/malconv/multi_gpu.py  \n",
            "  inflating: ember-master/requirements.txt  \n",
            "  inflating: ember-master/requirements_conda.txt  \n",
            "  inflating: ember-master/requirements_notebook.txt  \n",
            "   creating: ember-master/resources/\n",
            "  inflating: ember-master/resources/ember-notebook.ipynb  \n",
            "  inflating: ember-master/resources/ember2018-notebook.ipynb  \n",
            "  inflating: ember-master/resources/logo.png  \n",
            "   creating: ember-master/scripts/\n",
            "  inflating: ember-master/scripts/classify_binaries.py  \n",
            "  inflating: ember-master/scripts/init_ember.py  \n",
            "  inflating: ember-master/setup.py   \n",
            "Collecting lief>=0.9.0\n",
            "  Downloading lief-0.11.5-cp37-cp37m-manylinux_2_17_x86_64.manylinux2014_x86_64.whl (3.9 MB)\n",
            "\u001b[K     |████████████████████████████████| 3.9 MB 883 kB/s \n",
            "\u001b[?25hRequirement already satisfied: tqdm>=4.31.0 in /usr/local/lib/python3.7/dist-packages (from -r requirements.txt (line 2)) (4.62.3)\n",
            "Requirement already satisfied: numpy>=1.16.3 in /usr/local/lib/python3.7/dist-packages (from -r requirements.txt (line 3)) (1.19.5)\n",
            "Requirement already satisfied: pandas>=0.24.2 in /usr/local/lib/python3.7/dist-packages (from -r requirements.txt (line 4)) (1.1.5)\n",
            "Requirement already satisfied: lightgbm>=2.2.3 in /usr/local/lib/python3.7/dist-packages (from -r requirements.txt (line 5)) (2.2.3)\n",
            "Requirement already satisfied: scikit-learn>=0.20.3 in /usr/local/lib/python3.7/dist-packages (from -r requirements.txt (line 6)) (0.22.2.post1)\n",
            "Requirement already satisfied: pytz>=2017.2 in /usr/local/lib/python3.7/dist-packages (from pandas>=0.24.2->-r requirements.txt (line 4)) (2018.9)\n",
            "Requirement already satisfied: python-dateutil>=2.7.3 in /usr/local/lib/python3.7/dist-packages (from pandas>=0.24.2->-r requirements.txt (line 4)) (2.8.2)\n",
            "Requirement already satisfied: scipy in /usr/local/lib/python3.7/dist-packages (from lightgbm>=2.2.3->-r requirements.txt (line 5)) (1.4.1)\n",
            "Requirement already satisfied: joblib>=0.11 in /usr/local/lib/python3.7/dist-packages (from scikit-learn>=0.20.3->-r requirements.txt (line 6)) (1.0.1)\n",
            "Requirement already satisfied: six>=1.5 in /usr/local/lib/python3.7/dist-packages (from python-dateutil>=2.7.3->pandas>=0.24.2->-r requirements.txt (line 4)) (1.15.0)\n",
            "Installing collected packages: lief\n",
            "Successfully installed lief-0.11.5\n",
            "running install\n",
            "running bdist_egg\n",
            "running egg_info\n",
            "creating ember.egg-info\n",
            "writing ember.egg-info/PKG-INFO\n",
            "writing dependency_links to ember.egg-info/dependency_links.txt\n",
            "writing requirements to ember.egg-info/requires.txt\n",
            "writing top-level names to ember.egg-info/top_level.txt\n",
            "writing manifest file 'ember.egg-info/SOURCES.txt'\n",
            "reading manifest file 'ember.egg-info/SOURCES.txt'\n",
            "adding license file 'LICENSE.txt'\n",
            "writing manifest file 'ember.egg-info/SOURCES.txt'\n",
            "installing library code to build/bdist.linux-x86_64/egg\n",
            "running install_lib\n",
            "running build_py\n",
            "creating build\n",
            "creating build/lib\n",
            "creating build/lib/ember\n",
            "copying ember/__init__.py -> build/lib/ember\n",
            "copying ember/features.py -> build/lib/ember\n",
            "creating build/bdist.linux-x86_64\n",
            "creating build/bdist.linux-x86_64/egg\n",
            "creating build/bdist.linux-x86_64/egg/ember\n",
            "copying build/lib/ember/__init__.py -> build/bdist.linux-x86_64/egg/ember\n",
            "copying build/lib/ember/features.py -> build/bdist.linux-x86_64/egg/ember\n",
            "byte-compiling build/bdist.linux-x86_64/egg/ember/__init__.py to __init__.cpython-37.pyc\n",
            "byte-compiling build/bdist.linux-x86_64/egg/ember/features.py to features.cpython-37.pyc\n",
            "creating build/bdist.linux-x86_64/egg/EGG-INFO\n",
            "copying ember.egg-info/PKG-INFO -> build/bdist.linux-x86_64/egg/EGG-INFO\n",
            "copying ember.egg-info/SOURCES.txt -> build/bdist.linux-x86_64/egg/EGG-INFO\n",
            "copying ember.egg-info/dependency_links.txt -> build/bdist.linux-x86_64/egg/EGG-INFO\n",
            "copying ember.egg-info/requires.txt -> build/bdist.linux-x86_64/egg/EGG-INFO\n",
            "copying ember.egg-info/top_level.txt -> build/bdist.linux-x86_64/egg/EGG-INFO\n",
            "zip_safe flag not set; analyzing archive contents...\n",
            "creating dist\n",
            "creating 'dist/ember-0.1.0-py3.7.egg' and adding 'build/bdist.linux-x86_64/egg' to it\n",
            "removing 'build/bdist.linux-x86_64/egg' (and everything under it)\n",
            "Processing ember-0.1.0-py3.7.egg\n",
            "Copying ember-0.1.0-py3.7.egg to /usr/local/lib/python3.7/dist-packages\n",
            "Adding ember 0.1.0 to easy-install.pth file\n",
            "\n",
            "Installed /usr/local/lib/python3.7/dist-packages/ember-0.1.0-py3.7.egg\n",
            "Processing dependencies for ember==0.1.0\n",
            "Searching for scikit-learn==0.22.2.post1\n",
            "Best match: scikit-learn 0.22.2.post1\n",
            "Adding scikit-learn 0.22.2.post1 to easy-install.pth file\n",
            "\n",
            "Using /usr/local/lib/python3.7/dist-packages\n",
            "Searching for lightgbm==2.2.3\n",
            "Best match: lightgbm 2.2.3\n",
            "Adding lightgbm 2.2.3 to easy-install.pth file\n",
            "\n",
            "Using /usr/local/lib/python3.7/dist-packages\n",
            "Searching for pandas==1.1.5\n",
            "Best match: pandas 1.1.5\n",
            "Adding pandas 1.1.5 to easy-install.pth file\n",
            "\n",
            "Using /usr/local/lib/python3.7/dist-packages\n",
            "Searching for numpy==1.19.5\n",
            "Best match: numpy 1.19.5\n",
            "Adding numpy 1.19.5 to easy-install.pth file\n",
            "Installing f2py script to /usr/local/bin\n",
            "Installing f2py3 script to /usr/local/bin\n",
            "Installing f2py3.7 script to /usr/local/bin\n",
            "\n",
            "Using /usr/local/lib/python3.7/dist-packages\n",
            "Searching for tqdm==4.62.3\n",
            "Best match: tqdm 4.62.3\n",
            "Adding tqdm 4.62.3 to easy-install.pth file\n",
            "Installing tqdm script to /usr/local/bin\n",
            "\n",
            "Using /usr/local/lib/python3.7/dist-packages\n",
            "Searching for lief==0.11.5\n",
            "Best match: lief 0.11.5\n",
            "Adding lief 0.11.5 to easy-install.pth file\n",
            "\n",
            "Using /usr/local/lib/python3.7/dist-packages\n",
            "Searching for joblib==1.0.1\n",
            "Best match: joblib 1.0.1\n",
            "Adding joblib 1.0.1 to easy-install.pth file\n",
            "\n",
            "Using /usr/local/lib/python3.7/dist-packages\n",
            "Searching for scipy==1.4.1\n",
            "Best match: scipy 1.4.1\n",
            "Adding scipy 1.4.1 to easy-install.pth file\n",
            "\n",
            "Using /usr/local/lib/python3.7/dist-packages\n",
            "Searching for python-dateutil==2.8.2\n",
            "Best match: python-dateutil 2.8.2\n",
            "Adding python-dateutil 2.8.2 to easy-install.pth file\n",
            "\n",
            "Using /usr/local/lib/python3.7/dist-packages\n",
            "Searching for pytz==2018.9\n",
            "Best match: pytz 2018.9\n",
            "Adding pytz 2018.9 to easy-install.pth file\n",
            "\n",
            "Using /usr/local/lib/python3.7/dist-packages\n",
            "Searching for six==1.15.0\n",
            "Best match: six 1.15.0\n",
            "Adding six 1.15.0 to easy-install.pth file\n",
            "\n",
            "Using /usr/local/lib/python3.7/dist-packages\n",
            "Finished processing dependencies for ember==0.1.0\n"
          ]
        }
      ]
    },
    {
      "cell_type": "code",
      "metadata": {
        "colab": {
          "base_uri": "https://localhost:8080/"
        },
        "id": "-FZZZOiZr063",
        "outputId": "a01774f9-cfe6-42e2-dd16-f7aa2fae6a6d"
      },
      "source": [
        "import ember\n",
        "X_train, y_train, X_test, y_test = ember.read_vectorized_features(\"drive/MyDrive/vMalConv/\")\n",
        "metadata_dataframe = ember.read_metadata(\"drive/MyDrive/vMalConv/\")"
      ],
      "execution_count": 7,
      "outputs": [
        {
          "output_type": "stream",
          "name": "stdout",
          "text": [
            "WARNING: EMBER feature version 2 were computed using lief version 0.9.0-\n",
            "WARNING:   lief version 0.11.5-37bc2c9 found instead. There may be slight inconsistencies\n",
            "WARNING:   in the feature calculations.\n"
          ]
        },
        {
          "output_type": "stream",
          "name": "stderr",
          "text": [
            "/usr/local/lib/python3.7/dist-packages/numpy/lib/arraysetops.py:580: FutureWarning: elementwise comparison failed; returning scalar instead, but in the future will perform elementwise comparison\n",
            "  mask |= (ar1 == a)\n"
          ]
        }
      ]
    },
    {
      "cell_type": "code",
      "metadata": {
        "id": "HTQ-zUqfr-pb"
      },
      "source": [
        "labelrows = (y_train != -1)\n",
        "X_train = X_train[labelrows]\n",
        "y_train = y_train[labelrows]"
      ],
      "execution_count": 8,
      "outputs": []
    },
    {
      "cell_type": "code",
      "metadata": {
        "id": "_zyDJPq9sCRI"
      },
      "source": [
        "import h5py\n",
        "h5f = h5py.File('X_train.h5', 'w')\n",
        "h5f.create_dataset('X_train', data=X_train)\n",
        "h5f.close()\n",
        "h5f = h5py.File('y_train.h5', 'w')\n",
        "h5f.create_dataset('y_train', data=y_train)\n",
        "h5f.close()"
      ],
      "execution_count": 9,
      "outputs": []
    },
    {
      "cell_type": "code",
      "metadata": {
        "id": "lHUCcmBBsbb5"
      },
      "source": [
        "!cp /content/X_train.h5 /content/drive/MyDrive/vMalConv/X_train.h5\n",
        "!cp /content/y_train.h5 /content/drive/MyDrive/vMalConv/y_train.h5"
      ],
      "execution_count": 10,
      "outputs": []
    },
    {
      "cell_type": "code",
      "metadata": {
        "id": "GmMbgxrdsniL"
      },
      "source": [
        "def make_model():\n",
        "  import tensorflow as tf\n",
        "  from tensorflow import keras\n",
        "  from tensorflow.keras import layers\n",
        "  feature_size=2381\n",
        "  tf.compat.v1.disable_eager_execution()\n",
        "\n",
        "  keras.backend.clear_session()\n",
        "  \n",
        "  # Model architecture\n",
        "  from tensorflow.keras import layers\n",
        "  \n",
        "  model = tf.keras.Sequential()\n",
        "  model.add(layers.InputLayer(input_shape=(1,feature_size)))\n",
        "  model.add(layers.Dropout(0.2))\n",
        "  model.add(layers.Dense(1500, activation='relu'))\n",
        "  model.add(layers.Dropout(0.5))\n",
        "  model.add(layers.Dense(1, activation='sigmoid'))\n",
        "\n",
        "  model.compile(tf.keras.optimizers.Adam(learning_rate=0.001),\n",
        "            loss='binary_crossentropy',\n",
        "            metrics=['accuracy',tf.keras.metrics.AUC(),tf.keras.metrics.Precision()])\n",
        "  print(model.summary())\n",
        "  return model"
      ],
      "execution_count": 11,
      "outputs": []
    },
    {
      "cell_type": "code",
      "metadata": {
        "colab": {
          "base_uri": "https://localhost:8080/"
        },
        "id": "loFR8id5tL4p",
        "outputId": "97b649b2-bc6b-4f5e-c2c6-13c0534b9ae5"
      },
      "source": [
        "model = make_model()\n",
        "model.save('./content/drive/MyDrive/vMalConv/model.h5')"
      ],
      "execution_count": 12,
      "outputs": [
        {
          "output_type": "stream",
          "name": "stdout",
          "text": [
            "Model: \"sequential\"\n",
            "_________________________________________________________________\n",
            "Layer (type)                 Output Shape              Param #   \n",
            "=================================================================\n",
            "dropout (Dropout)            (None, 1, 2381)           0         \n",
            "_________________________________________________________________\n",
            "dense (Dense)                (None, 1, 1500)           3573000   \n",
            "_________________________________________________________________\n",
            "dropout_1 (Dropout)          (None, 1, 1500)           0         \n",
            "_________________________________________________________________\n",
            "dense_1 (Dense)              (None, 1, 1)              1501      \n",
            "=================================================================\n",
            "Total params: 3,574,501\n",
            "Trainable params: 3,574,501\n",
            "Non-trainable params: 0\n",
            "_________________________________________________________________\n",
            "None\n"
          ]
        }
      ]
    },
    {
      "cell_type": "code",
      "metadata": {
        "id": "KPMcNr2Jtcfs"
      },
      "source": [
        "from sklearn.preprocessing import StandardScaler\n",
        "mms = StandardScaler()\n",
        "for x in range(0,600000,100000):\n",
        "  mms.partial_fit(X_train[x:x+100000])"
      ],
      "execution_count": 13,
      "outputs": []
    },
    {
      "cell_type": "code",
      "metadata": {
        "id": "ZJBIJFAztgwr"
      },
      "source": [
        "X_train = mms.transform(X_train)"
      ],
      "execution_count": 14,
      "outputs": []
    },
    {
      "cell_type": "code",
      "metadata": {
        "id": "KAM3dsTPtoSC"
      },
      "source": [
        "## Reshape to create 3 channels ##\n",
        "import numpy as np\n",
        "X_train = np.reshape(X_train,(-1,1,2381))\n",
        "y_train = np.reshape(y_train,(-1,1,1))"
      ],
      "execution_count": 15,
      "outputs": []
    },
    {
      "cell_type": "code",
      "metadata": {
        "colab": {
          "base_uri": "https://localhost:8080/"
        },
        "id": "PBgO0W3RuHls",
        "outputId": "5e2a0c88-750e-4a44-83c8-f22d136c4366"
      },
      "source": [
        "%tensorflow_version 2.x\n",
        "import tensorflow as tf\n",
        "tf.compat.v1.disable_eager_execution()\n",
        "\n",
        "save_dir = \"drive/MyDrive/vMalConv/\"\n",
        "\n",
        "callback = tf.keras.callbacks.EarlyStopping(monitor='val_loss', patience=10)\n",
        "\n",
        "model.compile(tf.keras.optimizers.Adam(learning_rate=0.01),\n",
        "          loss='binary_crossentropy',\n",
        "          metrics=['accuracy',tf.keras.metrics.AUC(),tf.keras.metrics.Precision()])\n",
        "\n",
        "history = model.fit(X_train, y_train,\n",
        "                batch_size=128,\n",
        "                epochs=30,\n",
        "                  validation_split=.2,\n",
        "                  callbacks=[callback]\n",
        "                  )\n",
        "# Save the weights #\n",
        "model.save_weights (save_dir+'weights.h5')\n",
        "\n",
        "# Save the model architecture #\n",
        "model_json = model.to_json()\n",
        "with open(save_dir+\"model.json\", \"w\") as json_file:\n",
        "    json_file.write(model_json)\n",
        "\n",
        "print(\"model saved.\")"
      ],
      "execution_count": 16,
      "outputs": [
        {
          "output_type": "stream",
          "name": "stdout",
          "text": [
            "Train on 480000 samples, validate on 120000 samples\n",
            "Epoch 1/30\n",
            "479744/480000 [============================>.] - ETA: 0s - loss: 7.1075 - accuracy: 0.9411 - auc_1: 0.9471 - precision_1: 0.9398"
          ]
        },
        {
          "output_type": "stream",
          "name": "stderr",
          "text": [
            "/usr/local/lib/python3.7/dist-packages/keras/engine/training.py:2470: UserWarning: `Model.state_updates` will be removed in a future version. This property should not be used in TensorFlow 2.0, as `updates` are applied automatically.\n",
            "  warnings.warn('`Model.state_updates` will be removed in a future version. '\n"
          ]
        },
        {
          "output_type": "stream",
          "name": "stdout",
          "text": [
            "480000/480000 [==============================] - 62s 128us/sample - loss: 7.1049 - accuracy: 0.9411 - auc_1: 0.9471 - precision_1: 0.9398 - val_loss: 2.6292 - val_accuracy: 0.9738 - val_auc_1: 0.9760 - val_precision_1: 0.9686\n",
            "Epoch 2/30\n",
            "480000/480000 [==============================] - 64s 133us/sample - loss: 8.9062 - accuracy: 0.9579 - auc_1: 0.9618 - precision_1: 0.9568 - val_loss: 4.5756 - val_accuracy: 0.9850 - val_auc_1: 0.9865 - val_precision_1: 0.9872\n",
            "Epoch 3/30\n",
            "480000/480000 [==============================] - 72s 150us/sample - loss: 10.1289 - accuracy: 0.9630 - auc_1: 0.9666 - precision_1: 0.9622 - val_loss: 5.3183 - val_accuracy: 0.9828 - val_auc_1: 0.9870 - val_precision_1: 0.9861\n",
            "Epoch 4/30\n",
            "480000/480000 [==============================] - 69s 143us/sample - loss: 8.9704 - accuracy: 0.9663 - auc_1: 0.9708 - precision_1: 0.9651 - val_loss: 3.4918 - val_accuracy: 0.9835 - val_auc_1: 0.9888 - val_precision_1: 0.9886\n",
            "Epoch 5/30\n",
            "480000/480000 [==============================] - 67s 139us/sample - loss: 10.6366 - accuracy: 0.9666 - auc_1: 0.9706 - precision_1: 0.9651 - val_loss: 5.4422 - val_accuracy: 0.9857 - val_auc_1: 0.9887 - val_precision_1: 0.9891\n",
            "Epoch 6/30\n",
            "480000/480000 [==============================] - 56s 117us/sample - loss: 11.8928 - accuracy: 0.9675 - auc_1: 0.9725 - precision_1: 0.9655 - val_loss: 6.4656 - val_accuracy: 0.9858 - val_auc_1: 0.9893 - val_precision_1: 0.9893\n",
            "Epoch 7/30\n",
            "480000/480000 [==============================] - 52s 107us/sample - loss: 11.2999 - accuracy: 0.9682 - auc_1: 0.9738 - precision_1: 0.9668 - val_loss: 8.0376 - val_accuracy: 0.9838 - val_auc_1: 0.9888 - val_precision_1: 0.9941\n",
            "Epoch 8/30\n",
            "480000/480000 [==============================] - 56s 116us/sample - loss: 10.2828 - accuracy: 0.9697 - auc_1: 0.9756 - precision_1: 0.9685 - val_loss: 10.4256 - val_accuracy: 0.9834 - val_auc_1: 0.9907 - val_precision_1: 0.9931\n",
            "Epoch 9/30\n",
            "480000/480000 [==============================] - 54s 112us/sample - loss: 10.5997 - accuracy: 0.9702 - auc_1: 0.9769 - precision_1: 0.9692 - val_loss: 6.6809 - val_accuracy: 0.9854 - val_auc_1: 0.9919 - val_precision_1: 0.9949\n",
            "Epoch 10/30\n",
            "480000/480000 [==============================] - 58s 120us/sample - loss: 9.7075 - accuracy: 0.9693 - auc_1: 0.9771 - precision_1: 0.9683 - val_loss: 7.8821 - val_accuracy: 0.9857 - val_auc_1: 0.9910 - val_precision_1: 0.9871\n",
            "Epoch 11/30\n",
            "480000/480000 [==============================] - 56s 117us/sample - loss: 11.6418 - accuracy: 0.9695 - auc_1: 0.9772 - precision_1: 0.9686 - val_loss: 9.6422 - val_accuracy: 0.9851 - val_auc_1: 0.9911 - val_precision_1: 0.9923\n",
            "model saved.\n"
          ]
        }
      ]
    },
    {
      "cell_type": "code",
      "metadata": {
        "colab": {
          "base_uri": "https://localhost:8080/"
        },
        "id": "b2VWFwsqQdVg",
        "outputId": "a847109f-8d34-4da6-ef15-415b9ca606dd"
      },
      "source": [
        "!wget https://the.earth.li/~sgtatham/putty/latest/w32/putty.exe"
      ],
      "execution_count": 14,
      "outputs": [
        {
          "output_type": "stream",
          "name": "stdout",
          "text": [
            "--2021-10-15 00:10:54--  https://the.earth.li/~sgtatham/putty/latest/w32/putty.exe\n",
            "Resolving the.earth.li (the.earth.li)... 93.93.131.124, 2a00:1098:86:4d:c0ff:ee:15:900d\n",
            "Connecting to the.earth.li (the.earth.li)|93.93.131.124|:443... connected.\n",
            "HTTP request sent, awaiting response... 302 Found\n",
            "Location: https://the.earth.li/~sgtatham/putty/0.76/w32/putty.exe [following]\n",
            "--2021-10-15 00:10:55--  https://the.earth.li/~sgtatham/putty/0.76/w32/putty.exe\n",
            "Reusing existing connection to the.earth.li:443.\n",
            "HTTP request sent, awaiting response... 200 OK\n",
            "Length: 1180904 (1.1M) [application/x-msdos-program]\n",
            "Saving to: ‘putty.exe.2’\n",
            "\n",
            "putty.exe.2         100%[===================>]   1.13M  1.95MB/s    in 0.6s    \n",
            "\n",
            "2021-10-15 00:10:55 (1.95 MB/s) - ‘putty.exe.2’ saved [1180904/1180904]\n",
            "\n"
          ]
        }
      ]
    },
    {
      "cell_type": "code",
      "metadata": {
        "id": "GVQ9bl3NP_7Z"
      },
      "source": [
        "def test_pefile(pefile):\n",
        "  try:\n",
        "    import ember\n",
        "    import numpy as np\n",
        "  except:\n",
        "    !wget https://github.com/endgameinc/ember/archive/master.zip\n",
        "    !unzip master.zip\n",
        "    !rm master.zip\n",
        "    !cp -r ember-master/* .\n",
        "    !rm -r ember-master\n",
        "    !pip install -r requirements.txt\n",
        "    !python setup.py install\n",
        "    \n",
        "    import ember\n",
        "\n",
        "  from sklearn.preprocessing import StandardScaler\n",
        "  import tensorflow as tf\n",
        "  tf.compat.v1.disable_eager_execution()\n",
        "\n",
        "  mms=StandardScaler()\n",
        "  sample_data = open(pefile, \"rb\").read()\n",
        "  extractor = ember.PEFeatureExtractor(2)\n",
        "  sample_data = np.array(extractor.feature_vector(sample_data), dtype=np.float32)\n",
        "  sample_data = mms.fit_transform([sample_data])\n",
        "  sample_data = np.reshape(sample_data,(-1,1,2381))\n",
        "\n",
        "  model = tf.keras.models.load_model('./content/drive/MyDrive/vMalConv/model.h5')\n",
        "  pred = model.predict(sample_data)\n",
        "\n",
        "  return pred"
      ],
      "execution_count": 17,
      "outputs": []
    },
    {
      "cell_type": "code",
      "metadata": {
        "colab": {
          "base_uri": "https://localhost:8080/"
        },
        "id": "6RC461taQV8I",
        "outputId": "616114f8-cde3-4446-9406-d1a2fc963d1e"
      },
      "source": [
        "\n",
        "test_pefile(\"putty.exe\")"
      ],
      "execution_count": 18,
      "outputs": [
        {
          "output_type": "stream",
          "name": "stdout",
          "text": [
            "WARNING: EMBER feature version 2 were computed using lief version 0.9.0-\n",
            "WARNING:   lief version 0.10.0-845f675 found instead. There may be slight inconsistencies\n",
            "WARNING:   in the feature calculations.\n"
          ]
        },
        {
          "output_type": "stream",
          "name": "stderr",
          "text": [
            "/usr/local/lib/python3.7/dist-packages/keras/engine/training.py:2470: UserWarning: `Model.state_updates` will be removed in a future version. This property should not be used in TensorFlow 2.0, as `updates` are applied automatically.\n",
            "  warnings.warn('`Model.state_updates` will be removed in a future version. '\n"
          ]
        },
        {
          "output_type": "execute_result",
          "data": {
            "text/plain": [
              "array([[[0.5]]], dtype=float32)"
            ]
          },
          "metadata": {},
          "execution_count": 18
        }
      ]
    },
    {
      "cell_type": "markdown",
      "metadata": {
        "id": "Gi9eTfmVS1Bz"
      },
      "source": [
        "Benign Sample\n"
      ]
    }
  ]
}