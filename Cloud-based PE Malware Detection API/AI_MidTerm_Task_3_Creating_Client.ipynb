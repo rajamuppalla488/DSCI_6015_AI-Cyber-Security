{
  "nbformat": 4,
  "nbformat_minor": 0,
  "metadata": {
    "colab": {
      "name": "AI_MidTerm_Task_3_Creating Client.ipynb",
      "provenance": [],
      "collapsed_sections": [],
      "machine_shape": "hm"
    },
    "kernelspec": {
      "name": "python3",
      "display_name": "Python 3"
    },
    "language_info": {
      "name": "python"
    },
    "accelerator": "TPU"
  },
  "cells": [
    {
      "cell_type": "markdown",
      "metadata": {
        "id": "eLi1HHIugUaQ"
      },
      "source": [
        "#### **Task 3: Client Creation**"
      ]
    },
    {
      "cell_type": "code",
      "metadata": {
        "colab": {
          "base_uri": "https://localhost:8080/"
        },
        "id": "Dh9Z2r46Mieu",
        "outputId": "855643f2-dca4-422e-9251-17134f199e43"
      },
      "source": [
        "pip install boto3"
      ],
      "execution_count": 1,
      "outputs": [
        {
          "output_type": "stream",
          "name": "stdout",
          "text": [
            "Collecting boto3\n",
            "  Downloading boto3-1.18.62-py3-none-any.whl (131 kB)\n",
            "\u001b[K     |████████████████████████████████| 131 kB 5.3 MB/s \n",
            "\u001b[?25hCollecting s3transfer<0.6.0,>=0.5.0\n",
            "  Downloading s3transfer-0.5.0-py3-none-any.whl (79 kB)\n",
            "\u001b[K     |████████████████████████████████| 79 kB 6.7 MB/s \n",
            "\u001b[?25hCollecting botocore<1.22.0,>=1.21.62\n",
            "  Downloading botocore-1.21.62-py3-none-any.whl (8.0 MB)\n",
            "\u001b[K     |████████████████████████████████| 8.0 MB 47.4 MB/s \n",
            "\u001b[?25hCollecting jmespath<1.0.0,>=0.7.1\n",
            "  Downloading jmespath-0.10.0-py2.py3-none-any.whl (24 kB)\n",
            "Collecting urllib3<1.27,>=1.25.4\n",
            "  Downloading urllib3-1.26.7-py2.py3-none-any.whl (138 kB)\n",
            "\u001b[K     |████████████████████████████████| 138 kB 66.8 MB/s \n",
            "\u001b[?25hRequirement already satisfied: python-dateutil<3.0.0,>=2.1 in /usr/local/lib/python3.7/dist-packages (from botocore<1.22.0,>=1.21.62->boto3) (2.8.2)\n",
            "Requirement already satisfied: six>=1.5 in /usr/local/lib/python3.7/dist-packages (from python-dateutil<3.0.0,>=2.1->botocore<1.22.0,>=1.21.62->boto3) (1.15.0)\n",
            "Installing collected packages: urllib3, jmespath, botocore, s3transfer, boto3\n",
            "  Attempting uninstall: urllib3\n",
            "    Found existing installation: urllib3 1.24.3\n",
            "    Uninstalling urllib3-1.24.3:\n",
            "      Successfully uninstalled urllib3-1.24.3\n",
            "\u001b[31mERROR: pip's dependency resolver does not currently take into account all the packages that are installed. This behaviour is the source of the following dependency conflicts.\n",
            "requests 2.23.0 requires urllib3!=1.25.0,!=1.25.1,<1.26,>=1.21.1, but you have urllib3 1.26.7 which is incompatible.\n",
            "datascience 0.10.6 requires folium==0.2.1, but you have folium 0.8.3 which is incompatible.\u001b[0m\n",
            "Successfully installed boto3-1.18.62 botocore-1.21.62 jmespath-0.10.0 s3transfer-0.5.0 urllib3-1.26.7\n"
          ]
        }
      ]
    },
    {
      "cell_type": "code",
      "metadata": {
        "colab": {
          "base_uri": "https://localhost:8080/"
        },
        "id": "EvhrlJk8SAvk",
        "outputId": "6f31b437-7094-40bf-ed36-c84848e43015"
      },
      "source": [
        "!git clone https://github.com/endgameinc/ember"
      ],
      "execution_count": 2,
      "outputs": [
        {
          "output_type": "stream",
          "name": "stdout",
          "text": [
            "Cloning into 'ember'...\n",
            "remote: Enumerating objects: 266, done.\u001b[K\n",
            "remote: Counting objects: 100% (74/74), done.\u001b[K\n",
            "remote: Compressing objects: 100% (60/60), done.\u001b[K\n",
            "remote: Total 266 (delta 32), reused 45 (delta 14), pack-reused 192\u001b[K\n",
            "Receiving objects: 100% (266/266), 11.36 MiB | 34.93 MiB/s, done.\n",
            "Resolving deltas: 100% (113/113), done.\n"
          ]
        }
      ]
    },
    {
      "cell_type": "code",
      "metadata": {
        "id": "Rmb1SZlkSyIf"
      },
      "source": [
        "!mv ember ember-master"
      ],
      "execution_count": 3,
      "outputs": []
    },
    {
      "cell_type": "code",
      "metadata": {
        "id": "m3wSDbJaTmCh"
      },
      "source": [
        "!cp -r ember-master/* ."
      ],
      "execution_count": 4,
      "outputs": []
    },
    {
      "cell_type": "code",
      "metadata": {
        "colab": {
          "base_uri": "https://localhost:8080/"
        },
        "id": "FgDi4xgLTylm",
        "outputId": "5ac77885-f2b6-4f40-caa9-ebac0c9fdc83"
      },
      "source": [
        "!wget https://repo.anaconda.com/archive/Anaconda3-2020.02-Windows-x86_64.exe"
      ],
      "execution_count": 6,
      "outputs": [
        {
          "output_type": "stream",
          "name": "stdout",
          "text": [
            "--2021-10-15 00:25:34--  https://repo.anaconda.com/archive/Anaconda3-2020.02-Windows-x86_64.exe\n",
            "Resolving repo.anaconda.com (repo.anaconda.com)... 104.16.131.3, 104.16.130.3, 2606:4700::6810:8303, ...\n",
            "Connecting to repo.anaconda.com (repo.anaconda.com)|104.16.131.3|:443... connected.\n",
            "HTTP request sent, awaiting response... 200 OK\n",
            "Length: 488908696 (466M) [application/octet-stream]\n",
            "Saving to: ‘Anaconda3-2020.02-Windows-x86_64.exe’\n",
            "\n",
            "Anaconda3-2020.02-W 100%[===================>] 466.26M   177MB/s    in 2.6s    \n",
            "\n",
            "2021-10-15 00:25:36 (177 MB/s) - ‘Anaconda3-2020.02-Windows-x86_64.exe’ saved [488908696/488908696]\n",
            "\n"
          ]
        }
      ]
    },
    {
      "cell_type": "code",
      "metadata": {
        "colab": {
          "base_uri": "https://localhost:8080/"
        },
        "id": "4ssI0AalNmk_",
        "outputId": "2a42ef6c-fc4f-4899-9f2a-9eacdae887aa"
      },
      "source": [
        "!python clientPE.py Anaconda3-2020.02-Windows-x86_64.exe"
      ],
      "execution_count": 10,
      "outputs": [
        {
          "output_type": "stream",
          "name": "stdout",
          "text": [
            "WARNING: EMBER feature version 2 were computed using lief version 0.9.0-\n",
            "WARNING:   lief version 0.10.0-845f675 found instead. There may be slight inconsistencies\n",
            "WARNING:   in the feature calculations.\n",
            "tcmalloc: large alloc 4400185344 bytes == 0x55c6c2034000 @  0x7fcbc2cad1e7 0x55c6a1252130 0x55c6a122f413 0x55c6a12600a4 0x55c6a1220c52 0x55c6a1293c25 0x55c6a128eced 0x55c6a1221bda 0x55c6a128fc0d 0x55c6a1221afa 0x55c6a128fc0d 0x55c6a1221afa 0x55c6a128f915 0x55c6a128e9ee 0x55c6a128e6f3 0x55c6a13584c2 0x55c6a135883d 0x55c6a13586e6 0x55c6a1330163 0x55c6a132fe0c 0x7fcbc1a97bf7 0x55c6a132fcea\n",
            "tcmalloc: large alloc 3911270400 bytes == 0x55c6c2034000 @  0x7fcbc2cad1e7 0x7fcbbe20946e 0x7fcbbe259c7b 0x7fcbbe259d97 0x7fcbbe259fe9 0x7fcbbe25cd7d 0x7fcbbe24d6ba 0x55c6a1222749 0x7fcbbe246ef7 0x55c6a1220437 0x55c6a1220240 0x55c6a1293973 0x55c6a128e9ee 0x55c6a1221bda 0x55c6a1290737 0x55c6a1221afa 0x55c6a128fc0d 0x55c6a128eced 0x55c6a1221bda 0x55c6a128f915 0x55c6a128eced 0x55c6a1221bda 0x55c6a128fc0d 0x55c6a1221afa 0x55c6a128fc0d 0x55c6a1221afa 0x55c6a128f915 0x55c6a128e9ee 0x55c6a128e6f3 0x55c6a13584c2 0x55c6a135883d\n",
            "{'predictions': [[0.5]]}\n"
          ]
        }
      ]
    },
    {
      "cell_type": "code",
      "metadata": {
        "id": "5xx8cO6HUfXG"
      },
      "source": [
        ""
      ],
      "execution_count": null,
      "outputs": []
    }
  ]
}